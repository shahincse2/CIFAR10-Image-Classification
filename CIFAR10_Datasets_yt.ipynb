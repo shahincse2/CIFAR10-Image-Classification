{
  "nbformat": 4,
  "nbformat_minor": 0,
  "metadata": {
    "colab": {
      "provenance": []
    },
    "kernelspec": {
      "name": "python3",
      "display_name": "Python 3"
    },
    "language_info": {
      "name": "python"
    }
  },
  "cells": [
    {
      "cell_type": "code",
      "execution_count": null,
      "metadata": {
        "id": "MqMppj97qa1Y"
      },
      "outputs": [],
      "source": [
        "import tensorflow as tf\n",
        "from tensorflow.keras import datasets, layers, models\n",
        "import matplotlib.pyplot as plt\n",
        "import numpy as np"
      ]
    },
    {
      "cell_type": "code",
      "source": [
        "(X_train, y_train), (X_test,y_test) = datasets.cifar10.load_data()\n",
        "X_train.shape"
      ],
      "metadata": {
        "colab": {
          "base_uri": "https://localhost:8080/"
        },
        "id": "IOb-3hHlqozx",
        "outputId": "4e4f60a2-4e43-45fc-dd1f-b168d4f8950b"
      },
      "execution_count": null,
      "outputs": [
        {
          "output_type": "stream",
          "name": "stdout",
          "text": [
            "Downloading data from https://www.cs.toronto.edu/~kriz/cifar-10-python.tar.gz\n",
            "170498071/170498071 [==============================] - 2s 0us/step\n"
          ]
        },
        {
          "output_type": "execute_result",
          "data": {
            "text/plain": [
              "(50000, 32, 32, 3)"
            ]
          },
          "metadata": {},
          "execution_count": 3
        }
      ]
    },
    {
      "cell_type": "code",
      "source": [
        "X_test.shape\n"
      ],
      "metadata": {
        "colab": {
          "base_uri": "https://localhost:8080/"
        },
        "id": "p5LtlEkbqo3D",
        "outputId": "f809ef49-34b1-4343-de90-7a753486ce59"
      },
      "execution_count": null,
      "outputs": [
        {
          "output_type": "execute_result",
          "data": {
            "text/plain": [
              "(10000, 32, 32, 3)"
            ]
          },
          "metadata": {},
          "execution_count": 4
        }
      ]
    },
    {
      "cell_type": "code",
      "source": [
        "y_train.shape"
      ],
      "metadata": {
        "colab": {
          "base_uri": "https://localhost:8080/"
        },
        "id": "Pp3qK_TUqo6B",
        "outputId": "00edf64e-5529-404a-b434-dc16a047c8b1"
      },
      "execution_count": null,
      "outputs": [
        {
          "output_type": "execute_result",
          "data": {
            "text/plain": [
              "(50000, 1)"
            ]
          },
          "metadata": {},
          "execution_count": 5
        }
      ]
    },
    {
      "cell_type": "code",
      "source": [
        "y_train[:5]"
      ],
      "metadata": {
        "colab": {
          "base_uri": "https://localhost:8080/"
        },
        "id": "DiV82wcpqo8k",
        "outputId": "5a67a1b8-6f5f-4994-9771-c92b9ac96c4e"
      },
      "execution_count": null,
      "outputs": [
        {
          "output_type": "execute_result",
          "data": {
            "text/plain": [
              "array([[6],\n",
              "       [9],\n",
              "       [9],\n",
              "       [4],\n",
              "       [1]], dtype=uint8)"
            ]
          },
          "metadata": {},
          "execution_count": 6
        }
      ]
    },
    {
      "cell_type": "code",
      "source": [
        "y_train = y_train.reshape(-1,)\n",
        "y_train[:5]"
      ],
      "metadata": {
        "colab": {
          "base_uri": "https://localhost:8080/"
        },
        "id": "WlZx7_Gtqo_N",
        "outputId": "d2f399f8-693c-449d-d041-5effbc50c810"
      },
      "execution_count": null,
      "outputs": [
        {
          "output_type": "execute_result",
          "data": {
            "text/plain": [
              "array([6, 9, 9, 4, 1], dtype=uint8)"
            ]
          },
          "metadata": {},
          "execution_count": 7
        }
      ]
    },
    {
      "cell_type": "code",
      "source": [
        "y_test = y_test.reshape(-1,)"
      ],
      "metadata": {
        "id": "rev6HL2GqpBu"
      },
      "execution_count": null,
      "outputs": []
    },
    {
      "cell_type": "code",
      "source": [
        "classes = [\"airplane\",\"automobile\",\"bird\",\"cat\",\"deer\",\"dog\",\"frog\",\"horse\",\"ship\",\"truck\"]"
      ],
      "metadata": {
        "id": "UAxtGvivqpEG"
      },
      "execution_count": null,
      "outputs": []
    },
    {
      "cell_type": "code",
      "source": [
        "def plot_sample(X, y, index):\n",
        "    plt.figure(figsize = (15,2))\n",
        "    plt.imshow(X[index])\n",
        "    plt.xlabel(classes[y[index]])"
      ],
      "metadata": {
        "id": "MoG_kd5yqpHJ"
      },
      "execution_count": null,
      "outputs": []
    },
    {
      "cell_type": "code",
      "source": [
        "plot_sample(X_train, y_train, 0)"
      ],
      "metadata": {
        "colab": {
          "base_uri": "https://localhost:8080/",
          "height": 237
        },
        "id": "zn2gh1nUqpKp",
        "outputId": "64b2106e-13b5-456e-b3ff-eeb02df47c7a"
      },
      "execution_count": null,
      "outputs": [
        {
          "output_type": "display_data",
          "data": {
            "text/plain": [
              "<Figure size 1500x200 with 1 Axes>"
            ],
            "image/png": "[encoded data removed]"
          },
          "metadata": {}
        }
      ]
    },
    {
      "cell_type": "code",
      "source": [
        "plot_sample(X_train, y_train, 1000)"
      ],
      "metadata": {
        "colab": {
          "base_uri": "https://localhost:8080/",
          "height": 237
        },
        "id": "TIaBmnY5qpOO",
        "outputId": "de556a1b-0773-4bf0-dd37-b3b9a6a5cbd6"
      },
      "execution_count": null,
      "outputs": [
        {
          "output_type": "display_data",
          "data": {
            "text/plain": [
              "<Figure size 1500x200 with 1 Axes>"
            ],
            "image/png": "[encoded data removed]"
          },
          "metadata": {}
        }
      ]
    },
    {
      "cell_type": "code",
      "source": [
        "X_train = X_train / 255.0\n",
        "X_test = X_test / 255.0"
      ],
      "metadata": {
        "id": "F0i8lpZjqpRj"
      },
      "execution_count": null,
      "outputs": []
    },
    {
      "cell_type": "code",
      "source": [
        "ann = models.Sequential([\n",
        "        layers.Flatten(input_shape=(32,32,3)),\n",
        "        layers.Dense(3000, activation='relu'),\n",
        "        layers.Dense(1000, activation='relu'),\n",
        "        layers.Dense(10, activation='softmax')\n",
        "    ])"
      ],
      "metadata": {
        "id": "JAOZQeMMqpUc"
      },
      "execution_count": null,
      "outputs": []
    },
    {
      "cell_type": "code",
      "source": [
        "ann.compile(optimizer='SGD',\n",
        "              loss='sparse_categorical_crossentropy',\n",
        "              metrics=['accuracy'])"
      ],
      "metadata": {
        "id": "vlqacSL2rQfS"
      },
      "execution_count": null,
      "outputs": []
    },
    {
      "cell_type": "code",
      "source": [
        "ann.fit(X_train, y_train, epochs=10)"
      ],
      "metadata": {
        "colab": {
          "base_uri": "https://localhost:8080/"
        },
        "id": "5euTlc5hrQiN",
        "outputId": "02116ea3-fed3-4847-ed66-7e5e6f6459a6"
      },
      "execution_count": null,
      "outputs": [
        {
          "output_type": "stream",
          "name": "stdout",
          "text": [
            "Epoch 1/10\n",
            "1563/1563 [==============================] - 142s 90ms/step - loss: 1.8113 - accuracy: 0.3552\n",
            "Epoch 2/10\n",
            "1563/1563 [==============================] - 134s 86ms/step - loss: 1.6229 - accuracy: 0.4283\n",
            "Epoch 3/10\n",
            "1563/1563 [==============================] - 136s 87ms/step - loss: 1.5411 - accuracy: 0.4551\n",
            "Epoch 4/10\n",
            "1563/1563 [==============================] - 157s 100ms/step - loss: 1.4804 - accuracy: 0.4771\n",
            "Epoch 5/10\n",
            "1563/1563 [==============================] - 142s 91ms/step - loss: 1.4327 - accuracy: 0.4954\n",
            "Epoch 6/10\n",
            "1563/1563 [==============================] - 138s 88ms/step - loss: 1.3904 - accuracy: 0.5094\n",
            "Epoch 7/10\n",
            "1563/1563 [==============================] - 134s 86ms/step - loss: 1.3511 - accuracy: 0.5239\n",
            "Epoch 8/10\n",
            "1563/1563 [==============================] - 142s 91ms/step - loss: 1.3171 - accuracy: 0.5348\n",
            "Epoch 9/10\n",
            "1563/1563 [==============================] - 134s 86ms/step - loss: 1.2885 - accuracy: 0.5483\n",
            "Epoch 10/10\n",
            "1563/1563 [==============================] - 131s 84ms/step - loss: 1.2549 - accuracy: 0.5582\n"
          ]
        },
        {
          "output_type": "execute_result",
          "data": {
            "text/plain": [
              "<keras.callbacks.History at 0x7832a5e3e440>"
            ]
          },
          "metadata": {},
          "execution_count": 18
        }
      ]
    },
    {
      "cell_type": "code",
      "source": [
        "from sklearn.metrics import confusion_matrix , classification_report\n",
        "import numpy as np\n",
        "y_pred = ann.predict(X_test)\n",
        "y_pred_classes = [np.argmax(element) for element in y_pred]"
      ],
      "metadata": {
        "colab": {
          "base_uri": "https://localhost:8080/"
        },
        "id": "-CbVEoB3rQk7",
        "outputId": "2963f371-984a-4485-8918-f0987bd5908b"
      },
      "execution_count": null,
      "outputs": [
        {
          "output_type": "stream",
          "name": "stdout",
          "text": [
            "313/313 [==============================] - 11s 36ms/step\n"
          ]
        }
      ]
    },
    {
      "cell_type": "code",
      "source": [
        "print(\"Classification Report: \\n\", classification_report(y_test, y_pred_classes))"
      ],
      "metadata": {
        "colab": {
          "base_uri": "https://localhost:8080/"
        },
        "id": "PEDWpKJErQqG",
        "outputId": "4bb09eef-25ff-44eb-cda5-48bfaa549042"
      },
      "execution_count": null,
      "outputs": [
        {
          "output_type": "stream",
          "name": "stdout",
          "text": [
            "Classification Report: \n",
            "               precision    recall  f1-score   support\n",
            "\n",
            "           0       0.66      0.56      0.60      1000\n",
            "           1       0.47      0.84      0.60      1000\n",
            "           2       0.50      0.28      0.36      1000\n",
            "           3       0.36      0.30      0.33      1000\n",
            "           4       0.64      0.25      0.36      1000\n",
            "           5       0.39      0.57      0.46      1000\n",
            "           6       0.42      0.81      0.55      1000\n",
            "           7       0.70      0.53      0.60      1000\n",
            "           8       0.80      0.46      0.58      1000\n",
            "           9       0.63      0.51      0.56      1000\n",
            "\n",
            "    accuracy                           0.51     10000\n",
            "   macro avg       0.56      0.51      0.50     10000\n",
            "weighted avg       0.56      0.51      0.50     10000\n",
            "\n"
          ]
        }
      ]
    },
    {
      "cell_type": "code",
      "source": [
        "cnn = models.Sequential([\n",
        "    layers.Conv2D(filters=32, kernel_size=(3, 3), activation='relu', input_shape=(32, 32, 3)),\n",
        "    layers.MaxPooling2D((2, 2)),\n",
        "\n",
        "    layers.Conv2D(filters=64, kernel_size=(3, 3), activation='relu'),\n",
        "    layers.MaxPooling2D((2, 2)),\n",
        "\n",
        "    layers.Flatten(),\n",
        "    layers.Dense(64, activation='relu'),\n",
        "    layers.Dense(10, activation='softmax')\n",
        "])"
      ],
      "metadata": {
        "id": "IXXxwp6ErQs3"
      },
      "execution_count": null,
      "outputs": []
    },
    {
      "cell_type": "code",
      "source": [
        "cnn.compile(optimizer='adam',\n",
        "              loss='sparse_categorical_crossentropy',\n",
        "              metrics=['accuracy'])"
      ],
      "metadata": {
        "id": "axUDux9zrQvk"
      },
      "execution_count": null,
      "outputs": []
    },
    {
      "cell_type": "code",
      "source": [
        "cnn.fit(X_train, y_train, epochs=10)"
      ],
      "metadata": {
        "colab": {
          "base_uri": "https://localhost:8080/"
        },
        "id": "REA1zn6wrQyg",
        "outputId": "abbeea13-7d8c-43fe-b7ef-65d3510a6c1c"
      },
      "execution_count": null,
      "outputs": [
        {
          "output_type": "stream",
          "name": "stdout",
          "text": [
            "Epoch 1/10\n",
            "1563/1563 [==============================] - 79s 50ms/step - loss: 1.4966 - accuracy: 0.4599\n",
            "Epoch 2/10\n",
            "1563/1563 [==============================] - 79s 51ms/step - loss: 1.1394 - accuracy: 0.6011\n",
            "Epoch 3/10\n",
            "1563/1563 [==============================] - 78s 50ms/step - loss: 0.9966 - accuracy: 0.6516\n",
            "Epoch 4/10\n",
            "1563/1563 [==============================] - 74s 47ms/step - loss: 0.9106 - accuracy: 0.6825\n",
            "Epoch 5/10\n",
            "1563/1563 [==============================] - 77s 49ms/step - loss: 0.8436 - accuracy: 0.7073\n",
            "Epoch 6/10\n",
            "1563/1563 [==============================] - 76s 48ms/step - loss: 0.7885 - accuracy: 0.7238\n",
            "Epoch 7/10\n",
            "1563/1563 [==============================] - 76s 49ms/step - loss: 0.7436 - accuracy: 0.7412\n",
            "Epoch 8/10\n",
            "1563/1563 [==============================] - 76s 49ms/step - loss: 0.6958 - accuracy: 0.7571\n",
            "Epoch 9/10\n",
            "1563/1563 [==============================] - 76s 49ms/step - loss: 0.6558 - accuracy: 0.7716\n",
            "Epoch 10/10\n",
            "1563/1563 [==============================] - 77s 49ms/step - loss: 0.6160 - accuracy: 0.7855\n"
          ]
        },
        {
          "output_type": "execute_result",
          "data": {
            "text/plain": [
              "<keras.callbacks.History at 0x7a19c9bf24a0>"
            ]
          },
          "metadata": {},
          "execution_count": 21
        }
      ]
    },
    {
      "cell_type": "code",
      "source": [
        "cnn.evaluate(X_test,y_test)"
      ],
      "metadata": {
        "colab": {
          "base_uri": "https://localhost:8080/"
        },
        "id": "aBPM-bO0rciC",
        "outputId": "56cc8c1c-5ef7-4bb6-dc81-ebece164f494"
      },
      "execution_count": null,
      "outputs": [
        {
          "output_type": "stream",
          "name": "stdout",
          "text": [
            "313/313 [==============================] - 10s 32ms/step - loss: 0.9272 - accuracy: 0.6960\n"
          ]
        },
        {
          "output_type": "execute_result",
          "data": {
            "text/plain": [
              "[0.9272344708442688, 0.6959999799728394]"
            ]
          },
          "metadata": {},
          "execution_count": 22
        }
      ]
    },
    {
      "cell_type": "code",
      "source": [
        "y_pred = cnn.predict(X_test)\n",
        "y_pred[:5]"
      ],
      "metadata": {
        "colab": {
          "base_uri": "https://localhost:8080/"
        },
        "id": "t6dZv-gCrcky",
        "outputId": "f242c172-b247-47d5-8947-67df65aa27f0"
      },
      "execution_count": null,
      "outputs": [
        {
          "output_type": "stream",
          "name": "stdout",
          "text": [
            "313/313 [==============================] - 6s 19ms/step\n"
          ]
        },
        {
          "output_type": "execute_result",
          "data": {
            "text/plain": [
              "array([[4.8117206e-02, 2.9258637e-04, 9.9958163e-03, 4.0557399e-01,\n",
              "        4.4326028e-03, 1.9306380e-01, 1.7462627e-03, 6.3239746e-03,\n",
              "        3.3035874e-01, 9.4968687e-05],\n",
              "       [3.5949112e-03, 2.1451011e-02, 1.6986703e-06, 2.7647542e-07,\n",
              "        4.5975921e-07, 9.5045671e-08, 1.7099870e-07, 1.4842760e-07,\n",
              "        9.7426611e-01, 6.8509456e-04],\n",
              "       [2.0556460e-01, 3.1176532e-02, 3.4904049e-03, 7.8130607e-03,\n",
              "        3.5505055e-03, 1.8501627e-03, 3.6627019e-04, 1.8198084e-02,\n",
              "        6.5491021e-01, 7.3080026e-02],\n",
              "       [8.8669699e-01, 8.3405497e-03, 2.8057841e-03, 1.1868360e-03,\n",
              "        1.3601206e-03, 4.8972702e-06, 1.7636015e-05, 4.7214660e-03,\n",
              "        9.4181389e-02, 6.8444666e-04],\n",
              "       [2.1495305e-07, 1.8962253e-05, 9.0154313e-04, 3.3890363e-02,\n",
              "        6.0183521e-02, 7.7213999e-04, 9.0422887e-01, 1.1136685e-07,\n",
              "        2.2519916e-06, 1.8432778e-06]], dtype=float32)"
            ]
          },
          "metadata": {},
          "execution_count": 23
        }
      ]
    },
    {
      "cell_type": "code",
      "source": [
        "y_classes = [np.argmax(element) for element in y_pred]\n",
        "y_classes[:100]"
      ],
      "metadata": {
        "colab": {
          "base_uri": "https://localhost:8080/"
        },
        "id": "bwuopM8QrcnY",
        "outputId": "e1cdd5d4-3ba9-4637-fa35-77c1f07c191f"
      },
      "execution_count": null,
      "outputs": [
        {
          "output_type": "execute_result",
          "data": {
            "text/plain": [
              "[3,\n",
              " 8,\n",
              " 8,\n",
              " 0,\n",
              " 6,\n",
              " 6,\n",
              " 1,\n",
              " 6,\n",
              " 3,\n",
              " 1,\n",
              " 0,\n",
              " 9,\n",
              " 5,\n",
              " 7,\n",
              " 9,\n",
              " 8,\n",
              " 5,\n",
              " 7,\n",
              " 8,\n",
              " 6,\n",
              " 7,\n",
              " 2,\n",
              " 2,\n",
              " 9,\n",
              " 4,\n",
              " 3,\n",
              " 4,\n",
              " 0,\n",
              " 9,\n",
              " 6,\n",
              " 6,\n",
              " 5,\n",
              " 4,\n",
              " 3,\n",
              " 9,\n",
              " 3,\n",
              " 7,\n",
              " 9,\n",
              " 9,\n",
              " 5,\n",
              " 4,\n",
              " 6,\n",
              " 5,\n",
              " 6,\n",
              " 0,\n",
              " 9,\n",
              " 5,\n",
              " 5,\n",
              " 7,\n",
              " 2,\n",
              " 2,\n",
              " 8,\n",
              " 5,\n",
              " 3,\n",
              " 8,\n",
              " 8,\n",
              " 7,\n",
              " 5,\n",
              " 5,\n",
              " 3,\n",
              " 7,\n",
              " 5,\n",
              " 6,\n",
              " 3,\n",
              " 6,\n",
              " 2,\n",
              " 1,\n",
              " 0,\n",
              " 5,\n",
              " 9,\n",
              " 8,\n",
              " 6,\n",
              " 8,\n",
              " 8,\n",
              " 0,\n",
              " 2,\n",
              " 0,\n",
              " 3,\n",
              " 5,\n",
              " 8,\n",
              " 8,\n",
              " 9,\n",
              " 1,\n",
              " 7,\n",
              " 2,\n",
              " 7,\n",
              " 0,\n",
              " 8,\n",
              " 9,\n",
              " 9,\n",
              " 0,\n",
              " 6,\n",
              " 8,\n",
              " 6,\n",
              " 2,\n",
              " 6,\n",
              " 6,\n",
              " 0,\n",
              " 0,\n",
              " 3,\n",
              " 4,\n",
              " 5,\n",
              " 6,\n",
              " 3,\n",
              " 1,\n",
              " 1,\n",
              " 5,\n",
              " 6,\n",
              " 3,\n",
              " 7,\n",
              " 4,\n",
              " 0,\n",
              " 6,\n",
              " 2,\n",
              " 1,\n",
              " 3,\n",
              " 0,\n",
              " 4,\n",
              " 3,\n",
              " 5,\n",
              " 8,\n",
              " 5,\n",
              " 1,\n",
              " 2,\n",
              " 8,\n",
              " 0,\n",
              " 0,\n",
              " 3,\n",
              " 3,\n",
              " 0,\n",
              " 2,\n",
              " 1,\n",
              " 8,\n",
              " 9,\n",
              " 1,\n",
              " 2,\n",
              " 9,\n",
              " 7,\n",
              " 2,\n",
              " 8,\n",
              " 4,\n",
              " 5,\n",
              " 6,\n",
              " 5,\n",
              " 8,\n",
              " 9,\n",
              " 6,\n",
              " 5,\n",
              " 5,\n",
              " 2,\n",
              " 8,\n",
              " 1,\n",
              " 6,\n",
              " 0,\n",
              " 0,\n",
              " 5,\n",
              " 6,\n",
              " 9,\n",
              " 3,\n",
              " 4,\n",
              " 2,\n",
              " 1,\n",
              " 1,\n",
              " 6,\n",
              " 0,\n",
              " 7,\n",
              " 8,\n",
              " 6,\n",
              " 9,\n",
              " 0,\n",
              " 9,\n",
              " 9,\n",
              " 8,\n",
              " 8,\n",
              " 9,\n",
              " 9,\n",
              " 3,\n",
              " 7,\n",
              " 5,\n",
              " 9,\n",
              " 0,\n",
              " 5,\n",
              " 2,\n",
              " 8,\n",
              " 5,\n",
              " 8,\n",
              " 2,\n",
              " 2,\n",
              " 3,\n",
              " 0,\n",
              " 5,\n",
              " 8,\n",
              " 0,\n",
              " 1,\n",
              " 7,\n",
              " 5,\n",
              " 8,\n",
              " 8,\n",
              " 5,\n",
              " 8,\n",
              " 5,\n",
              " 9,\n",
              " 8,\n",
              " 7,\n",
              " 1,\n",
              " 3,\n",
              " 0,\n",
              " 5,\n",
              " 7,\n",
              " 9,\n",
              " 5,\n",
              " 9,\n",
              " 5,\n",
              " 9,\n",
              " 1,\n",
              " 0,\n",
              " 7,\n",
              " 9,\n",
              " 8,\n",
              " 2,\n",
              " 7,\n",
              " 3,\n",
              " 9,\n",
              " 5,\n",
              " 4,\n",
              " 9,\n",
              " 2,\n",
              " 2,\n",
              " 3,\n",
              " 6,\n",
              " 5,\n",
              " 1,\n",
              " 5,\n",
              " 1,\n",
              " 8,\n",
              " 0,\n",
              " 4,\n",
              " 0,\n",
              " 5,\n",
              " 5,\n",
              " 1,\n",
              " 9,\n",
              " 8,\n",
              " 9,\n",
              " 0,\n",
              " 2,\n",
              " 1,\n",
              " 8,\n",
              " 2,\n",
              " 0,\n",
              " 5,\n",
              " 5,\n",
              " 9,\n",
              " 1,\n",
              " 2,\n",
              " 7,\n",
              " 3,\n",
              " 0,\n",
              " 8,\n",
              " 9,\n",
              " 8,\n",
              " 1,\n",
              " 3,\n",
              " 3,\n",
              " 0,\n",
              " 8,\n",
              " 5,\n",
              " 4,\n",
              " 7,\n",
              " 0,\n",
              " 5,\n",
              " 7,\n",
              " 6,\n",
              " 3,\n",
              " 8,\n",
              " 5,\n",
              " 0,\n",
              " 2,\n",
              " 5,\n",
              " 5,\n",
              " 9,\n",
              " 0,\n",
              " 6,\n",
              " 1,\n",
              " 9,\n",
              " 9,\n",
              " 1,\n",
              " 8,\n",
              " 7,\n",
              " 9,\n",
              " 1,\n",
              " 2,\n",
              " 6,\n",
              " 1,\n",
              " 3,\n",
              " 2,\n",
              " 6,\n",
              " 0,\n",
              " 0,\n",
              " 6,\n",
              " 6,\n",
              " 6,\n",
              " 5,\n",
              " 2,\n",
              " 4,\n",
              " 8,\n",
              " 8,\n",
              " 2,\n",
              " 9,\n",
              " 2,\n",
              " 8,\n",
              " 6,\n",
              " 8,\n",
              " 0,\n",
              " 5,\n",
              " 0,\n",
              " 7,\n",
              " 5,\n",
              " 5,\n",
              " 5,\n",
              " 3,\n",
              " 3,\n",
              " 2,\n",
              " 2,\n",
              " 3,\n",
              " 1,\n",
              " 7,\n",
              " 5,\n",
              " 4,\n",
              " 6,\n",
              " 1,\n",
              " 9,\n",
              " 6,\n",
              " 6,\n",
              " 6,\n",
              " 9,\n",
              " 3,\n",
              " 8,\n",
              " 0,\n",
              " 7,\n",
              " 2,\n",
              " 6,\n",
              " 2,\n",
              " 7,\n",
              " 0,\n",
              " 5,\n",
              " 7,\n",
              " 6,\n",
              " 8,\n",
              " 9,\n",
              " 9,\n",
              " 1,\n",
              " 8,\n",
              " 2,\n",
              " 6,\n",
              " 4,\n",
              " 5,\n",
              " 2,\n",
              " 1,\n",
              " 0,\n",
              " 9,\n",
              " 5,\n",
              " 8,\n",
              " 1,\n",
              " 9,\n",
              " 4,\n",
              " 1,\n",
              " 1,\n",
              " 0,\n",
              " 1,\n",
              " 2,\n",
              " 7,\n",
              " 9,\n",
              " 7,\n",
              " 2,\n",
              " 7,\n",
              " 8,\n",
              " 7,\n",
              " 2,\n",
              " 6,\n",
              " 6,\n",
              " 9,\n",
              " 0,\n",
              " 1,\n",
              " 5,\n",
              " 0,\n",
              " 7,\n",
              " 2,\n",
              " 5,\n",
              " 5,\n",
              " 1,\n",
              " 0,\n",
              " 6,\n",
              " 6,\n",
              " 9,\n",
              " 6,\n",
              " 2,\n",
              " 5,\n",
              " 0,\n",
              " 9,\n",
              " 9,\n",
              " 8,\n",
              " 7,\n",
              " 8,\n",
              " 8,\n",
              " 6,\n",
              " 0,\n",
              " 1,\n",
              " 8,\n",
              " 2,\n",
              " 7,\n",
              " 8,\n",
              " 5,\n",
              " 6,\n",
              " 1,\n",
              " 9,\n",
              " 5,\n",
              " 2,\n",
              " 3,\n",
              " 7,\n",
              " 4,\n",
              " 3,\n",
              " 0,\n",
              " 0,\n",
              " 2,\n",
              " 9,\n",
              " 5,\n",
              " 3,\n",
              " 6,\n",
              " 6,\n",
              " 2,\n",
              " 5,\n",
              " 3,\n",
              " 2,\n",
              " 9,\n",
              " 7,\n",
              " 3,\n",
              " 5,\n",
              " 5,\n",
              " 9,\n",
              " 1,\n",
              " 2,\n",
              " 9,\n",
              " 9,\n",
              " 5,\n",
              " 7,\n",
              " 5,\n",
              " 0,\n",
              " 2,\n",
              " 2,\n",
              " 1,\n",
              " 9,\n",
              " 7,\n",
              " 2,\n",
              " 9,\n",
              " 2,\n",
              " 2,\n",
              " 4,\n",
              " 3,\n",
              " 9,\n",
              " 2,\n",
              " 6,\n",
              " 1,\n",
              " 7,\n",
              " 4,\n",
              " 6,\n",
              " 5,\n",
              " 3,\n",
              " 7,\n",
              " 1,\n",
              " 3,\n",
              " 7,\n",
              " 8,\n",
              " 0,\n",
              " 3,\n",
              " 7,\n",
              " 6,\n",
              " 0,\n",
              " 5,\n",
              " 6,\n",
              " 8,\n",
              " 6,\n",
              " 8,\n",
              " 5,\n",
              " 5,\n",
              " 9,\n",
              " 9,\n",
              " 9,\n",
              " 4,\n",
              " 0,\n",
              " 1,\n",
              " 0,\n",
              " 8,\n",
              " 1,\n",
              " 1,\n",
              " 8,\n",
              " 0,\n",
              " 5,\n",
              " 2,\n",
              " 0,\n",
              " 6,\n",
              " 6,\n",
              " 5,\n",
              " 4,\n",
              " 9,\n",
              " 4,\n",
              " 7,\n",
              " 9,\n",
              " 9,\n",
              " 4,\n",
              " 5,\n",
              " 6,\n",
              " 6,\n",
              " 1,\n",
              " 5,\n",
              " 6,\n",
              " 8,\n",
              " 9,\n",
              " 5,\n",
              " 8,\n",
              " 7,\n",
              " 7,\n",
              " 0,\n",
              " 7,\n",
              " 1,\n",
              " 3,\n",
              " 4,\n",
              " 0,\n",
              " 7,\n",
              " 6,\n",
              " 9,\n",
              " 0,\n",
              " 1,\n",
              " 5,\n",
              " 6,\n",
              " 6,\n",
              " 6,\n",
              " 6,\n",
              " 8,\n",
              " 9,\n",
              " 1,\n",
              " 4,\n",
              " 6,\n",
              " 7,\n",
              " 5,\n",
              " 9,\n",
              " 1,\n",
              " 6,\n",
              " 2,\n",
              " 3,\n",
              " 5,\n",
              " 5,\n",
              " 8,\n",
              " 5,\n",
              " 9,\n",
              " 8,\n",
              " 6,\n",
              " 4,\n",
              " 3,\n",
              " 2,\n",
              " 0,\n",
              " 7,\n",
              " 6,\n",
              " 2,\n",
              " 2,\n",
              " 5,\n",
              " 9,\n",
              " 3,\n",
              " 9,\n",
              " 2,\n",
              " 6,\n",
              " 7,\n",
              " 1,\n",
              " 8,\n",
              " 6,\n",
              " 6,\n",
              " 8,\n",
              " 8,\n",
              " 7,\n",
              " 5,\n",
              " 4,\n",
              " 0,\n",
              " 8,\n",
              " 2,\n",
              " 0,\n",
              " 9,\n",
              " 3,\n",
              " 4,\n",
              " 8,\n",
              " 9,\n",
              " 6,\n",
              " 9,\n",
              " 2,\n",
              " 6,\n",
              " 1,\n",
              " 0,\n",
              " 7,\n",
              " 3,\n",
              " 5,\n",
              " 3,\n",
              " 8,\n",
              " 5,\n",
              " 0,\n",
              " 2,\n",
              " 1,\n",
              " 6,\n",
              " 4,\n",
              " 5,\n",
              " 3,\n",
              " 1,\n",
              " 6,\n",
              " 0,\n",
              " 8,\n",
              " 8,\n",
              " 5,\n",
              " 8,\n",
              " 6,\n",
              " 6,\n",
              " 7,\n",
              " 1,\n",
              " 7,\n",
              " 1,\n",
              " 1,\n",
              " 2,\n",
              " 5,\n",
              " 9,\n",
              " 9,\n",
              " 4,\n",
              " 7,\n",
              " 8,\n",
              " 8,\n",
              " 5,\n",
              " 6,\n",
              " 8,\n",
              " 4,\n",
              " 6,\n",
              " 8,\n",
              " 2,\n",
              " 8,\n",
              " 5,\n",
              " 5,\n",
              " 3,\n",
              " 7,\n",
              " 7,\n",
              " 9,\n",
              " 1,\n",
              " 3,\n",
              " 2,\n",
              " 4,\n",
              " 5,\n",
              " 3,\n",
              " 9,\n",
              " 5,\n",
              " 1,\n",
              " 1,\n",
              " 0,\n",
              " 1,\n",
              " 1,\n",
              " 4,\n",
              " 1,\n",
              " 9,\n",
              " 7,\n",
              " 7,\n",
              " 6,\n",
              " 3,\n",
              " 0,\n",
              " 9,\n",
              " 0,\n",
              " 1,\n",
              " 5,\n",
              " 6,\n",
              " 5,\n",
              " 0,\n",
              " 3,\n",
              " 2,\n",
              " 8,\n",
              " 4,\n",
              " 9,\n",
              " 1,\n",
              " 5,\n",
              " 1,\n",
              " 6,\n",
              " 4,\n",
              " 0,\n",
              " 3,\n",
              " 2,\n",
              " 9,\n",
              " 2,\n",
              " 3,\n",
              " 0,\n",
              " 4,\n",
              " 2,\n",
              " 2,\n",
              " 7,\n",
              " 8,\n",
              " 3,\n",
              " 8,\n",
              " 2,\n",
              " 7,\n",
              " 5,\n",
              " 7,\n",
              " 2,\n",
              " 6,\n",
              " 8,\n",
              " 7,\n",
              " 2,\n",
              " 2,\n",
              " 3,\n",
              " 8,\n",
              " 8,\n",
              " 6,\n",
              " 0,\n",
              " 8,\n",
              " 7,\n",
              " 4,\n",
              " 3,\n",
              " 3,\n",
              " 8,\n",
              " 7,\n",
              " 9,\n",
              " 7,\n",
              " 8,\n",
              " 8,\n",
              " 1,\n",
              " 8,\n",
              " 1,\n",
              " 1,\n",
              " 5,\n",
              " 6,\n",
              " 5,\n",
              " 7,\n",
              " 6,\n",
              " 7,\n",
              " 9,\n",
              " 1,\n",
              " 2,\n",
              " 1,\n",
              " 0,\n",
              " 1,\n",
              " 7,\n",
              " 5,\n",
              " 7,\n",
              " 0,\n",
              " 7,\n",
              " 2,\n",
              " 7,\n",
              " 5,\n",
              " 6,\n",
              " 2,\n",
              " 3,\n",
              " 9,\n",
              " 0,\n",
              " 9,\n",
              " 1,\n",
              " 2,\n",
              " 2,\n",
              " 6,\n",
              " 8,\n",
              " 2,\n",
              " 1,\n",
              " 3,\n",
              " 6,\n",
              " 6,\n",
              " 0,\n",
              " 9,\n",
              " 2,\n",
              " 5,\n",
              " 9,\n",
              " 5,\n",
              " 4,\n",
              " 1,\n",
              " 1,\n",
              " 6,\n",
              " 6,\n",
              " 0,\n",
              " 2,\n",
              " 7,\n",
              " 6,\n",
              " 0,\n",
              " 6,\n",
              " 9,\n",
              " 1,\n",
              " 7,\n",
              " 6,\n",
              " 7,\n",
              " 0,\n",
              " 5,\n",
              " 9,\n",
              " 6,\n",
              " 8,\n",
              " 0,\n",
              " 0,\n",
              " 7,\n",
              " 5,\n",
              " 7,\n",
              " 7,\n",
              " 1,\n",
              " 4,\n",
              " 7,\n",
              " 2,\n",
              " 7,\n",
              " 1,\n",
              " 2,\n",
              " 7,\n",
              " 7,\n",
              " 4,\n",
              " 8,\n",
              " 2,\n",
              " 7,\n",
              " 8,\n",
              " 3,\n",
              " 3,\n",
              " 7,\n",
              " 2,\n",
              " 0,\n",
              " 8,\n",
              " 9,\n",
              " 3,\n",
              " 1,\n",
              " 0,\n",
              " 6,\n",
              " 2,\n",
              " 0,\n",
              " 8,\n",
              " 7,\n",
              " 4,\n",
              " 7,\n",
              " 6,\n",
              " 5,\n",
              " 3,\n",
              " 0,\n",
              " 6,\n",
              " 2,\n",
              " 5,\n",
              " 5,\n",
              " 4,\n",
              " 1,\n",
              " 5,\n",
              " 9,\n",
              " 2,\n",
              " 7,\n",
              " 0,\n",
              " 7,\n",
              " 2,\n",
              " 1,\n",
              " 8,\n",
              " 5,\n",
              " 0,\n",
              " 2,\n",
              " 4,\n",
              " 5,\n",
              " 9,\n",
              " 8,\n",
              " 1,\n",
              " 0,\n",
              " 7,\n",
              " 0,\n",
              " 0,\n",
              " 7,\n",
              " 8,\n",
              " 4,\n",
              " 6,\n",
              " 6,\n",
              " 3,\n",
              " 0,\n",
              " 1,\n",
              " 1,\n",
              " 7,\n",
              " 0,\n",
              " 1,\n",
              " 3,\n",
              " 1,\n",
              " 4,\n",
              " 2,\n",
              " 3,\n",
              " 8,\n",
              " 4,\n",
              " 5,\n",
              " 4,\n",
              " 5,\n",
              " 8,\n",
              " 4,\n",
              " 2,\n",
              " 0,\n",
              " 5,\n",
              " 0,\n",
              " 0,\n",
              " 1,\n",
              " 1,\n",
              " 4,\n",
              " 4,\n",
              " 6,\n",
              " 5,\n",
              " 5,\n",
              " 1,\n",
              " 1,\n",
              " 3,\n",
              " 7,\n",
              " 5,\n",
              " 4,\n",
              " 2,\n",
              " 6,\n",
              " 6,\n",
              " 5,\n",
              " 8,\n",
              " 5,\n",
              " 1,\n",
              " 6,\n",
              " 8,\n",
              " 8,\n",
              " 7,\n",
              " 3,\n",
              " 6,\n",
              " 5,\n",
              " 1,\n",
              " 1,\n",
              " 2,\n",
              " 8,\n",
              " 8,\n",
              " 0,\n",
              " 6,\n",
              " 9,\n",
              " 9,\n",
              " 9,\n",
              " 0,\n",
              " 3,\n",
              " 2,\n",
              " 6,\n",
              " 0,\n",
              " 8,\n",
              " 4,\n",
              " 2,\n",
              " 3,\n",
              " 5,\n",
              " 7,\n",
              " 3,\n",
              " 2,\n",
              " 5,\n",
              " 9,\n",
              " 0,\n",
              " 1,\n",
              " 5,\n",
              " 7,\n",
              " 4,\n",
              " 0,\n",
              " 3,\n",
              " 0,\n",
              " 1,\n",
              " 4,\n",
              " 8,\n",
              " 3,\n",
              " 9,\n",
              " 2,\n",
              " 9,\n",
              " 4,\n",
              " 7,\n",
              " 0,\n",
              " 6,\n",
              " 7,\n",
              " 9,\n",
              " 9,\n",
              " 1,\n",
              " 1,\n",
              " 6,\n",
              " 6,\n",
              " 0,\n",
              " 6,\n",
              " 0,\n",
              " 1,\n",
              " 9,\n",
              " 1,\n",
              " 4,\n",
              " 4,\n",
              " 1,\n",
              " 0,\n",
              " 0,\n",
              " 6,\n",
              " 8,\n",
              " 1,\n",
              " 9,\n",
              " 2,\n",
              " 1,\n",
              " 5,\n",
              " 4,\n",
              " 7,\n",
              " 0,\n",
              " 3,\n",
              " 1,\n",
              " 5,\n",
              " 0,\n",
              " 1,\n",
              " 5,\n",
              " 8,\n",
              " 3,\n",
              " 6,\n",
              " 5,\n",
              " 8,\n",
              " 1,\n",
              " 3,\n",
              " 8,\n",
              " ...]"
            ]
          },
          "metadata": {},
          "execution_count": 29
        }
      ]
    },
    {
      "cell_type": "code",
      "source": [
        "y_test[:100]"
      ],
      "metadata": {
        "id": "xesV45OKrcqP"
      },
      "execution_count": null,
      "outputs": []
    },
    {
      "cell_type": "code",
      "source": [
        "plot_sample(X_test, y_test,1)"
      ],
      "metadata": {
        "colab": {
          "base_uri": "https://localhost:8080/",
          "height": 237
        },
        "id": "DSOCuHj5rcs7",
        "outputId": "bd478ebf-fcc7-4c86-e3b0-5dd228bf5410"
      },
      "execution_count": null,
      "outputs": [
        {
          "output_type": "display_data",
          "data": {
            "text/plain": [
              "<Figure size 1500x200 with 1 Axes>"
            ],
            "image/png": "[encoded data removed]"
          },
          "metadata": {}
        }
      ]
    },
    {
      "cell_type": "code",
      "source": [
        "classes[y_classes[1]]"
      ],
      "metadata": {
        "colab": {
          "base_uri": "https://localhost:8080/",
          "height": 35
        },
        "id": "royuoHEsrcvr",
        "outputId": "49eaba17-21b8-4469-d4ee-269d3fb776ab"
      },
      "execution_count": null,
      "outputs": [
        {
          "output_type": "execute_result",
          "data": {
            "text/plain": [
              "'ship'"
            ],
            "application/vnd.google.colaboratory.intrinsic+json": {
              "type": "string"
            }
          },
          "metadata": {},
          "execution_count": 35
        }
      ]
    }
  ]
}